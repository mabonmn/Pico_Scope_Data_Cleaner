{
 "cells": [
  {
   "cell_type": "code",
   "execution_count": 3,
   "id": "81635241",
   "metadata": {},
   "outputs": [],
   "source": [
    "import numpy as np\n",
    "\n",
    "# Load the npz file\n",
    "data = np.load('temp_merge.npz')\n",
    "\n",
    "# Extract the data from the npz file\n",
    "power_trace = data['power_trace']\n",
    "plain_text = data['plain_text']\n",
    "key= data['key']\n",
    "# Get the length of the dataset\n",
    "data_len = len(power_trace)\n",
    "\n",
    "# Calculate the index to split the dataset\n",
    "split_index = int(0.9 * data_len)\n",
    "\n",
    "# Split the dataset into train and test sets\n",
    "x_train, y_train = power_trace[:split_index], plain_text[:split_index]\n",
    "x_test, y_test = power_trace[split_index:], plain_text[split_index:]\n",
    "\n",
    "# Save the train and test sets as npz files\n",
    "np.savez('train_data.npz', power_trace=x_train, plain_text=y_train,key=key)\n",
    "np.savez('test_data.npz', power_trace=x_test, plain_text=y_test,key=key)\n"
   ]
  }
 ],
 "metadata": {
  "kernelspec": {
   "display_name": "Python [conda env:tensorflow] *",
   "language": "python",
   "name": "conda-env-tensorflow-py"
  },
  "language_info": {
   "codemirror_mode": {
    "name": "ipython",
    "version": 3
   },
   "file_extension": ".py",
   "mimetype": "text/x-python",
   "name": "python",
   "nbconvert_exporter": "python",
   "pygments_lexer": "ipython3",
   "version": "3.7.13"
  }
 },
 "nbformat": 4,
 "nbformat_minor": 5
}
